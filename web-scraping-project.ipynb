{
 "cells": [
  {
   "cell_type": "markdown",
   "metadata": {},
   "source": [
    "# Web-scraping-project: Scraping Customer Reviews\n",
    "\n"
   ]
  },
  {
   "cell_type": "markdown",
   "metadata": {},
   "source": [
    "## Customer Reviews\n",
    "\n",
    "Customer reviews are basically the different impressions and opinions about a product. Almost every business can monitor their reputation, develop various analyses, and build trust upon them.Customer reviews are important for several reasons. Obviously, they are a source of feedback for companies that supply goods and services, so you can identify any areas for improvement. But it's not as simple as that. For a true overview of customer sentiment, you need comprehensive data. New reviews are posted all the time, which is why you need: **Web scraping.**"
   ]
  },
  {
   "cell_type": "markdown",
   "metadata": {},
   "source": [
    "## What is Web Scraping?\n",
    "\n",
    "Web scraping is a technique used to extract large amount of data from websites. This data can be later used for analysis. By aggregating multiple reviews, and potentially scraping multiple third-party customer review websites, you can build a database that allows you to serve your entire customer base better.\n",
    "\n"
   ]
  },
  {
   "cell_type": "markdown",
   "metadata": {},
   "source": [
    "**In this notebook, I will scrape reviews of a medical alert devices system from consumer affairs website using python.**"
   ]
  },
  {
   "cell_type": "markdown",
   "metadata": {},
   "source": [
    "### Steps to Follow :\n",
    "- Install important libraries that will be helpful for the project i.e. requests, BeautifulSoup4, pandas.\n",
    "- Download the web page using the requests library\n",
    "- Inspecting HTML source code of the web page\n",
    "- Separating parts of the website using Beautiful Soup\n",
    "- Convert separated parts into csv file\n",
    "- Have a look on csv file using pandas library."
   ]
  },
  {
   "cell_type": "code",
   "execution_count": 1,
   "metadata": {},
   "outputs": [
    {
     "name": "stdout",
     "output_type": "stream",
     "text": [
      "Note: you may need to restart the kernel to use updated packages.\n"
     ]
    }
   ],
   "source": [
    "pip install requests --upgrade --quiet"
   ]
  },
  {
   "cell_type": "code",
   "execution_count": 2,
   "metadata": {},
   "outputs": [],
   "source": [
    "import requests\n",
    "from bs4 import BeautifulSoup\n",
    "import pandas as pd"
   ]
  },
  {
   "cell_type": "code",
   "execution_count": 3,
   "metadata": {},
   "outputs": [],
   "source": [
    "#Importing url links.\n",
    "mg=\"https://www.consumeraffairs.com/medical-alert-systems/medical-guardian.html?page=3#scroll_to_reviews=true\"\n",
    "b=requests.get(mg)"
   ]
  },
  {
   "cell_type": "code",
   "execution_count": 4,
   "metadata": {},
   "outputs": [
    {
     "name": "stdout",
     "output_type": "stream",
     "text": [
      "200\n"
     ]
    }
   ],
   "source": [
    "# Checking if request was successful.\n",
    "print(b.status_code)"
   ]
  },
  {
   "cell_type": "code",
   "execution_count": 5,
   "metadata": {},
   "outputs": [],
   "source": [
    "page_contents=b.text\n",
    "with open ('medical guardian reviews.html','w') as file:\n",
    "    file.write(page_contents)"
   ]
  },
  {
   "cell_type": "code",
   "execution_count": 6,
   "metadata": {},
   "outputs": [
    {
     "data": {
      "text/plain": [
       "bs4.BeautifulSoup"
      ]
     },
     "execution_count": 6,
     "metadata": {},
     "output_type": "execute_result"
    }
   ],
   "source": [
    "with open ('medical guardian reviews.html', 'r') as f:\n",
    "    html_source=f.read()\n",
    "doc=BeautifulSoup(html_source,'html.parser')   \n",
    "type(doc)"
   ]
  },
  {
   "cell_type": "code",
   "execution_count": 8,
   "metadata": {},
   "outputs": [
    {
     "data": {
      "text/plain": [
       "30"
      ]
     },
     "execution_count": 8,
     "metadata": {},
     "output_type": "execute_result"
    }
   ],
   "source": [
    "div_tags=doc.find_all('div',class_='rvw-aut__inf')\n",
    "len(div_tags)"
   ]
  },
  {
   "cell_type": "markdown",
   "metadata": {},
   "source": [
    "There are 30 reviews on this page, hence the length of div_tags is 30. div_tags contains the information such as author's name, ratings, reviews."
   ]
  },
  {
   "cell_type": "markdown",
   "metadata": {},
   "source": [
    "## Extracting name of reviewers"
   ]
  },
  {
   "cell_type": "code",
   "execution_count": 9,
   "metadata": {},
   "outputs": [
    {
     "data": {
      "text/plain": [
       "['Donna of Richmond, IN',\n",
       " 'David of Forked River, NJ',\n",
       " 'Margaret of Franklin Township, NJ',\n",
       " 'Leslie of Naples, FL',\n",
       " 'James of Pontiac, IL',\n",
       " 'Jeff of Bradenton, FL',\n",
       " 'Judith of Turnersville, DE',\n",
       " 'Shirley of Westminster, MD',\n",
       " 'Betty of East Pittsburgh, PA',\n",
       " 'P. of Ny, NY',\n",
       " 'J. of Va, VA',\n",
       " 'Jean of Naperville, IL',\n",
       " 'Nancy of Sylvania, OH',\n",
       " 'Ronald of Sarasota, FL',\n",
       " 'Merle of Highland Park, IL',\n",
       " 'Janis of Citrus Springs, FL',\n",
       " 'R. of Mo, MO',\n",
       " 'Tabitha of Waynesville, NC',\n",
       " 'Gwen of Pigeon, MI',\n",
       " 'Lisa of Pegram, TN',\n",
       " 'Janice of Indianapolis, IN',\n",
       " 'Doris of Rockaway Township, NJ',\n",
       " 'Becky of Osseo, MN',\n",
       " 'Lonnie of Grafton, OH',\n",
       " 'L. of Fl, FL',\n",
       " 'C. of Ca, CA',\n",
       " 'E. of Ny, NY',\n",
       " 'G. of Me, ME',\n",
       " 'Gisele of Leominster, MA',\n",
       " 'A. of Fl, FL']"
      ]
     },
     "execution_count": 9,
     "metadata": {},
     "output_type": "execute_result"
    }
   ],
   "source": [
    "name=doc.find_all('strong', class_='rvw-aut__inf-nm')\n",
    "names=[]\n",
    "for tag in name:\n",
    "    author=tag.find('span').text\n",
    "    names.append(author)\n",
    "names    "
   ]
  },
  {
   "cell_type": "markdown",
   "metadata": {},
   "source": [
    "## Extracting Reviews\n",
    "Let's extract reviews from div tags.\n",
    "div_tags2 contains all the reviews."
   ]
  },
  {
   "cell_type": "code",
   "execution_count": 11,
   "metadata": {},
   "outputs": [
    {
     "data": {
      "text/plain": [
       "[\"I've had several falls so my son got me a medical alert device. He looked through several medical alert device companies and device on Medical Guardian. I used their necklace unit for a while and then I shifted to their bracelet. The bracelet started to bother me so I went back to the necklace. The necklace is so long though that I cut it a little bit to make it fit. This way, I wouldn't have all that cord hanging down. The unit I have functions in my home until 1,300 feet away. While I would like for it to help me outside of home too, I'm satisfied so far.\",\n",
       " \"My father lives by himself and getting up in age, which was why I got him a medical alert device. I liked Medical Guardian’s rating and signing up with them was simple. My father told me he has tried the button, and his only complaint is that it is large and there's a red flashing light on it.\",\n",
       " \"I have fear of falling. I’ve fallen three times in a row, and each time I had to have a hip replaced. It's been tough times. It was time for me to do something about it. So, we got Medical Guardian. Everything's been good. I haven't fallen, so I haven't had to use it but it's with me all the time. I have it around my neck. I like the feeling of reassurance that I have in case something happens. I feel there's somebody there in case I need them.\",\n",
       " \"My mother is under hospice care and she is getting weaker every week. We got her a Medical Guardian and security-wise, she has been fine. We programed the device such that if she falls, the call goes directly to the hospice and they come out to my mother's location. Medical Guardian has been great so far from my experiences with customer service to putting in the alert device.\",\n",
       " 'I wear my Medical Guardian around my neck and it\\'s been fine so far. I haven\\'t had a need to use it, but it doesn\\'t bother me to wear it. One time, I pushed my button, and then they answered it. It was just a short period of time. They called back and asked if I was all right. I said, \"Yeah. I\\'m all right. It was just a first time test.”',\n",
       " \"My mom's Medical Guardian device has been so far, so good. Everything was good when I set it up. She had some therapist that were coming out. She's had strokes and she's unsteady on her feet. She stays by herself. She's got to stay here once she let the dog out in the pen. She could go outside with her device cause it's like a cellular device. I’m about 10 minutes away from her, but still, if something happens, she can press that button. Even if somebody's breaking in or something, she can press it.\",\n",
       " \"I've fallen down many times. My son purchased a Medical Guardian for me and now I feel safer.\",\n",
       " \"I decided to get a Medical Guardian because I was by myself for a long while, but my sister's with me now. I wanted to make sure that if I would fall or something would happen, I would have somebody to help me. I feel much safer being here, ‘cause I know if something happens, all I have to do is push my little button and somebody will come. I have it around my neck and I wear it all the time.\",\n",
       " \"My daughter decided to get me a medical alert because I'm 95 years old. She wanted it for emergencies. I can't talk too right and I can't do things. I can't walk a lot. When I need to call her, I have my Medical Guardian device on my arm. I have like a watch on my hand. I haven't used it yet for anything but it's a very good thing. I feel safe. Now that I have it, I can get help if it is needed.\",\n",
       " \"The customer service of Medical Guardian has been very good. The sales representatives were easy to deal with. Thankfully, we haven't had to use it yet ‘cause my mother hasn’t fallen yet. But from speaking to a sales representative to installing it, it's been great.\",\n",
       " \"My son got me to purchase a Medical Guardian, so I have it in case of an emergency. I keep it beside my bed. I don't wear it because it's a little heavy. My experience with it has been fine. I have not had to use it though.\",\n",
       " \"I researched online and liked what they had to say about Medical Guardian. The information on their website stood out. I also liked that their call centers are all in the US, so I knew I would be speaking to somebody who could speak English. Everybody at Medical Guardian was very good at what they did. They spoke clearly, explained things adequately, and they were polite. I did use my device once. I have Parkinson's and I froze. I just needed them to call anybody. I had them call my sister to wake her up so she could come and assist me. It was a positive experience.\",\n",
       " \"I live alone and I've fallen. My kids thought it would be good if I got the Medical Guardian device. They're happy that I have it and that I use it. Right now, I'm sitting in a metro park and I have the bracelet on, and I have the other part in my purse. They feel that it's money well-spent. However, it's not really comfortable. Especially when it's hot and sticky, it's hard to wear it. It sticks to my arm. It's not like I'm thinking, I don’t like it. I'm just not a jewelry person. But I'm used to it. It's okay. It's made well. I'm glad that I have it and I use it. I'm gonna be 85 this month, so it's a good thing to have.\",\n",
       " \"I did some research online and Medical Guardian seemed like the best deal. We liked that you're not in a contract and the price. We had it before for temporary and so far, it's great. We needed it at one time and it worked out well. Bob had fallen and I wasn't around. So, he called 911 and they came and helped him up.\",\n",
       " \"I was falling a lot. My children decided for me to have Medical Guardian. They feel very good about it. I don't wear my device but I keep it on my night table. I tried to use it once, but the battery was out. I hadn’t charged the battery.\",\n",
       " \"My insurance company sent me a medical alert. They sent one of those things that they got to set up a thing in your house and you can only go 500 feet. My mailbox is over 500 feet from my door. My backyard, I have to only go halfway through it. I've never opened it. That was when I went online and got Medical Guardian. I'd rather pay for something that I know is gonna be there when I need it.\",\n",
       " \"The kids said I should get the device from Medical Guardian. Roxanne, my daughter, looked at them and she said that was the one I needed. When my daughter and my daughter-in-law agree on something, it's a whole lot easier to go along with them than it is to argue with them. It’s got to be safer having the device. I've got my cell phone and it works most of the places I am but with that tied around the neck, might not be quite as to drop it. But it’s because of the injury that I got it. \",\n",
       " \"When my grandmother received her Medical Guardian device, I was the one that was supposed to set it up. But she threw away the box that it came in with the instructions, so we weren't for sure how to set it up. I did save the email, so my husband was kinda sorta messing around with it because we didn't know if the green light was supposed to stay on if it was charged or what was going on. He messed around with it for a few minutes and it ended up calling the help people. When it did, my husband said, “We were just trying to figure it out. We didn't know how to work it, what's going on.” The rep talked him through it and told him that everything was set up and it was ready to go.\",\n",
       " \"Medical Guardian is working out really well for my mother. She's 89, and I live on the other side of town here, but still, if she would fall in the house, I would want to know about it. She goes outside and tries to pull weeds and all those wonderful little things. She won't listen to us, so we figured this was the next best thing. My older sister picked Medical Guardian out, and we just agreed on it. She went on and evaluated or looked up their ratings on her phone, so she thought this one was the best for what we needed. Mom doesn't really travel anywhere, and she doesn't go anywhere but the house, so we thought this would be perfect for her. She wears her device. She either has the necklace on or she wears the watch. We've been really happy with Medical Guardian.\",\n",
       " \"My mother's 80 years old and still lives alone. She’s had bad vertigo and had a lot of dizzy spells with that. We decided it would be better off to get that where she would have something. In case she fell and nobody was there, she could get help. I looked at the alerts up online and Medical Guardian came up as the number one company. I called to inquire about it. They gave me all that information over the phone right down to the price. So, we decided and went with them. So far, the Medical Guardian has been great. We've had no issues. We've been very satisfied. They were helpful and friendly over the phone. When we did the test, they were right on it.\",\n",
       " 'My mother is 91 so the possibility of falling is increasing. With Medical Guardian, we feel more secure. The device is fine and I can understand and hear the station out of which the person talks but the voice cuts in and out. So, it\\'s hard for my mother to understand. I had to tell her that when she hears them answering, she should tell them, “Ambulance or call my daughter.\" We\\'ve worked around it but it would be nice if the acoustics were a little easier for older people to understand. It\\'s not coming across clearly and it\\'s not the fault of the person talking to us. It\\'s the equipment.',\n",
       " \"I got the virus and my friend called Medical Guardian and ordered a device for me, and she had it sent to my house. I live alone and my kids are in California. They were worried about me being alone with the virus. I fell down the front steps with it on. I hurt my shoulder. I couldn't get off the step. People weren't stopping because everybody's afraid of the virus. They knew I had the virus. They're afraid they're gonna get it. So, all the neighbors that were on the beach walking by does not stop to help me up. I was able to call the ambulance and made a lot of trouble getting me up because of the shoulder and my weight. I'm going to the doctor tomorrow because my shoulder is still in bad shape. I can't use the right arm much at all.\",\n",
       " \"I have RA, so my joints hurts and sometimes, I fall. I've had other health issues that come along with that. I got Medical Guardian, and my husband really appreciates it especially, when he's not home, he knows that there's at least some contact. We did go for the necklace because I thought that would be the one I'd be most likely to remember to have on and take with me. It's just a little heavy to wear, but it's comfortable.\",\n",
       " \"My daughter got me a Medical Guardian in case something happens to me. I wear it around my neck and keep it on all the time. So far, I've had no problems with the device at all.\",\n",
       " 'My mother has Medical Guardian and it helped her. At times, she had to go to the hospital and she used it to alert the people and they called me too. So, it worked out well.',\n",
       " \"I had a fall and I’m unsteady on my feet. I got Medical Guardian, and I now have greater sense of safety and security if something should happen. My device is around my neck. I like the fact that it is water-resistant, so I can keep it on in the shower which is important. When I purchased it, they said that the charge would last up to a week. I have found that that doesn't last. It needs to be charged about every four days. And on the neck one, it connects with a magnet. It's not a solid band around your neck. So, I noticed the magnet has pulled apart a couple times when I'm getting dressed. It might be better if they just had it as a solid necklace instead of one that pulled apart with a magnet. While I have not used it yet, I have tested it. The customer service was very good.\",\n",
       " \"I had a stroke and my friend had suggested that I get something. The two of us started to sort of search around what might be best. As far as the cost, Medical Guardian was much more cost effective. Also, we like that it was lighter weight. The Medical Guardian team was great, especially the original person I spoke to. Everybody was so informative in letting us know what was the best thing and what was my best options. I'm very satisfied with my experience.\",\n",
       " \"I live alone and I'm old. I got a Medical Guard system and the one I have has a machine on my bedside table. I also wear a push-button around my neck. My wife is in a home because she fell down the stairs and broke her neck. If the same thing happens to me, I just push a button and somebody comes and carries me away. So far, the device has been fine and it solves my problem.\",\n",
       " 'I like my Medical Guardian a lot. One time, I decided to clean my clothes. So I took all my clothes to bring in my kitchen, so I could wash it. All of a sudden I heard my name. I thought somebody was in the house. It was the alert, the chain I have in my neck. There\\'s a button there. \\'Cause I pressed it. It called the alarm system. I heard the alarm system, \"Are you okay?\" I said, \"Okay. I\\'m fine. I was supposed to bring my clothes and I was pressing it in my arm, to the kitchen.\" So that was working very good. I wear it very well, all the time. I slept with it. I kept it. I took it off when I\\'m in the shower. But I can keep it in the shower too if I need it. I\\'m enjoying it. I\\'m very satisfied with it and I\\'m very happy. I have the watch too. I can wear it or the necklace.',\n",
       " \"I'll be living alone when my daughter goes back to her home. She decided that I should have a Medical Guardian because I had a fall about three months ago. She arranged to get it, and I have it around my neck now. I set it off by mistake one time. But they’ve received it and they came on, and I told them it was ‘cause I laid on it and pushed the button.\"]"
      ]
     },
     "execution_count": 11,
     "metadata": {},
     "output_type": "execute_result"
    }
   ],
   "source": [
    "div_tags2=doc.find_all('div', class_='rvw-bd')\n",
    "reviews=[]\n",
    "for tag in div_tags2:\n",
    "    review=tag.find('p').text\n",
    "    reviews.append(review)\n",
    "reviews    "
   ]
  },
  {
   "cell_type": "markdown",
   "metadata": {},
   "source": [
    "## Extracting date of reviews."
   ]
  },
  {
   "cell_type": "code",
   "execution_count": 12,
   "metadata": {},
   "outputs": [
    {
     "data": {
      "text/plain": [
       "['Original review: Aug. 31, 2020',\n",
       " 'Original review: Aug. 30, 2020',\n",
       " 'Original review: Aug. 30, 2020',\n",
       " 'Original review: Aug. 30, 2020',\n",
       " 'Original review: Aug. 29, 2020',\n",
       " 'Original review: Aug. 29, 2020',\n",
       " 'Original review: Aug. 29, 2020',\n",
       " 'Original review: Aug. 28, 2020',\n",
       " 'Original review: Aug. 28, 2020',\n",
       " 'Original review: Aug. 28, 2020',\n",
       " 'Original review: Aug. 27, 2020',\n",
       " 'Original review: Aug. 27, 2020',\n",
       " 'Original review: Aug. 27, 2020',\n",
       " 'Original review: Aug. 26, 2020',\n",
       " 'Original review: Aug. 26, 2020',\n",
       " 'Original review: Aug. 26, 2020',\n",
       " 'Original review: Aug. 25, 2020',\n",
       " 'Original review: Aug. 25, 2020',\n",
       " 'Original review: Aug. 25, 2020',\n",
       " 'Original review: Aug. 25, 2020',\n",
       " 'Original review: Aug. 24, 2020',\n",
       " 'Original review: Aug. 24, 2020',\n",
       " 'Original review: Aug. 24, 2020',\n",
       " 'Original review: Aug. 24, 2020',\n",
       " 'Original review: Aug. 23, 2020',\n",
       " 'Original review: Aug. 23, 2020',\n",
       " 'Original review: Aug. 23, 2020',\n",
       " 'Original review: Aug. 23, 2020',\n",
       " 'Original review: Aug. 22, 2020',\n",
       " 'Original review: Aug. 22, 2020']"
      ]
     },
     "execution_count": 12,
     "metadata": {},
     "output_type": "execute_result"
    }
   ],
   "source": [
    "dr=doc.find_all('div', class_='rvw-bd')\n",
    "dates=[]\n",
    "for pos in dr:\n",
    "    date=pos.find('span').text\n",
    "    dates.append(date)\n",
    "dates "
   ]
  },
  {
   "cell_type": "markdown",
   "metadata": {},
   "source": [
    "## Converting extracted files to a pandas dataframe."
   ]
  },
  {
   "cell_type": "code",
   "execution_count": 15,
   "metadata": {},
   "outputs": [
    {
     "data": {
      "text/html": [
       "<div>\n",
       "<style scoped>\n",
       "    .dataframe tbody tr th:only-of-type {\n",
       "        vertical-align: middle;\n",
       "    }\n",
       "\n",
       "    .dataframe tbody tr th {\n",
       "        vertical-align: top;\n",
       "    }\n",
       "\n",
       "    .dataframe thead th {\n",
       "        text-align: right;\n",
       "    }\n",
       "</style>\n",
       "<table border=\"1\" class=\"dataframe\">\n",
       "  <thead>\n",
       "    <tr style=\"text-align: right;\">\n",
       "      <th></th>\n",
       "      <th>NAMES OF REVIEWERS</th>\n",
       "      <th>REVIEWS</th>\n",
       "      <th>DATE OF REVIEWS</th>\n",
       "    </tr>\n",
       "  </thead>\n",
       "  <tbody>\n",
       "    <tr>\n",
       "      <th>0</th>\n",
       "      <td>Donna of Richmond, IN</td>\n",
       "      <td>I've had several falls so my son got me a medi...</td>\n",
       "      <td>Original review: Aug. 31, 2020</td>\n",
       "    </tr>\n",
       "    <tr>\n",
       "      <th>1</th>\n",
       "      <td>David of Forked River, NJ</td>\n",
       "      <td>My father lives by himself and getting up in a...</td>\n",
       "      <td>Original review: Aug. 30, 2020</td>\n",
       "    </tr>\n",
       "    <tr>\n",
       "      <th>2</th>\n",
       "      <td>Margaret of Franklin Township, NJ</td>\n",
       "      <td>I have fear of falling. I’ve fallen three time...</td>\n",
       "      <td>Original review: Aug. 30, 2020</td>\n",
       "    </tr>\n",
       "    <tr>\n",
       "      <th>3</th>\n",
       "      <td>Leslie of Naples, FL</td>\n",
       "      <td>My mother is under hospice care and she is get...</td>\n",
       "      <td>Original review: Aug. 30, 2020</td>\n",
       "    </tr>\n",
       "    <tr>\n",
       "      <th>4</th>\n",
       "      <td>James of Pontiac, IL</td>\n",
       "      <td>I wear my Medical Guardian around my neck and ...</td>\n",
       "      <td>Original review: Aug. 29, 2020</td>\n",
       "    </tr>\n",
       "    <tr>\n",
       "      <th>5</th>\n",
       "      <td>Jeff of Bradenton, FL</td>\n",
       "      <td>My mom's Medical Guardian device has been so f...</td>\n",
       "      <td>Original review: Aug. 29, 2020</td>\n",
       "    </tr>\n",
       "    <tr>\n",
       "      <th>6</th>\n",
       "      <td>Judith of Turnersville, DE</td>\n",
       "      <td>I've fallen down many times. My son purchased ...</td>\n",
       "      <td>Original review: Aug. 29, 2020</td>\n",
       "    </tr>\n",
       "    <tr>\n",
       "      <th>7</th>\n",
       "      <td>Shirley of Westminster, MD</td>\n",
       "      <td>I decided to get a Medical Guardian because I ...</td>\n",
       "      <td>Original review: Aug. 28, 2020</td>\n",
       "    </tr>\n",
       "    <tr>\n",
       "      <th>8</th>\n",
       "      <td>Betty of East Pittsburgh, PA</td>\n",
       "      <td>My daughter decided to get me a medical alert ...</td>\n",
       "      <td>Original review: Aug. 28, 2020</td>\n",
       "    </tr>\n",
       "    <tr>\n",
       "      <th>9</th>\n",
       "      <td>P. of Ny, NY</td>\n",
       "      <td>The customer service of Medical Guardian has b...</td>\n",
       "      <td>Original review: Aug. 28, 2020</td>\n",
       "    </tr>\n",
       "    <tr>\n",
       "      <th>10</th>\n",
       "      <td>J. of Va, VA</td>\n",
       "      <td>My son got me to purchase a Medical Guardian, ...</td>\n",
       "      <td>Original review: Aug. 27, 2020</td>\n",
       "    </tr>\n",
       "    <tr>\n",
       "      <th>11</th>\n",
       "      <td>Jean of Naperville, IL</td>\n",
       "      <td>I researched online and liked what they had to...</td>\n",
       "      <td>Original review: Aug. 27, 2020</td>\n",
       "    </tr>\n",
       "    <tr>\n",
       "      <th>12</th>\n",
       "      <td>Nancy of Sylvania, OH</td>\n",
       "      <td>I live alone and I've fallen. My kids thought ...</td>\n",
       "      <td>Original review: Aug. 27, 2020</td>\n",
       "    </tr>\n",
       "    <tr>\n",
       "      <th>13</th>\n",
       "      <td>Ronald of Sarasota, FL</td>\n",
       "      <td>I did some research online and Medical Guardia...</td>\n",
       "      <td>Original review: Aug. 26, 2020</td>\n",
       "    </tr>\n",
       "    <tr>\n",
       "      <th>14</th>\n",
       "      <td>Merle of Highland Park, IL</td>\n",
       "      <td>I was falling a lot. My children decided for m...</td>\n",
       "      <td>Original review: Aug. 26, 2020</td>\n",
       "    </tr>\n",
       "    <tr>\n",
       "      <th>15</th>\n",
       "      <td>Janis of Citrus Springs, FL</td>\n",
       "      <td>My insurance company sent me a medical alert. ...</td>\n",
       "      <td>Original review: Aug. 26, 2020</td>\n",
       "    </tr>\n",
       "    <tr>\n",
       "      <th>16</th>\n",
       "      <td>R. of Mo, MO</td>\n",
       "      <td>The kids said I should get the device from Med...</td>\n",
       "      <td>Original review: Aug. 25, 2020</td>\n",
       "    </tr>\n",
       "    <tr>\n",
       "      <th>17</th>\n",
       "      <td>Tabitha of Waynesville, NC</td>\n",
       "      <td>When my grandmother received her Medical Guard...</td>\n",
       "      <td>Original review: Aug. 25, 2020</td>\n",
       "    </tr>\n",
       "    <tr>\n",
       "      <th>18</th>\n",
       "      <td>Gwen of Pigeon, MI</td>\n",
       "      <td>Medical Guardian is working out really well fo...</td>\n",
       "      <td>Original review: Aug. 25, 2020</td>\n",
       "    </tr>\n",
       "    <tr>\n",
       "      <th>19</th>\n",
       "      <td>Lisa of Pegram, TN</td>\n",
       "      <td>My mother's 80 years old and still lives alone...</td>\n",
       "      <td>Original review: Aug. 25, 2020</td>\n",
       "    </tr>\n",
       "    <tr>\n",
       "      <th>20</th>\n",
       "      <td>Janice of Indianapolis, IN</td>\n",
       "      <td>My mother is 91 so the possibility of falling ...</td>\n",
       "      <td>Original review: Aug. 24, 2020</td>\n",
       "    </tr>\n",
       "    <tr>\n",
       "      <th>21</th>\n",
       "      <td>Doris of Rockaway Township, NJ</td>\n",
       "      <td>I got the virus and my friend called Medical G...</td>\n",
       "      <td>Original review: Aug. 24, 2020</td>\n",
       "    </tr>\n",
       "    <tr>\n",
       "      <th>22</th>\n",
       "      <td>Becky of Osseo, MN</td>\n",
       "      <td>I have RA, so my joints hurts and sometimes, I...</td>\n",
       "      <td>Original review: Aug. 24, 2020</td>\n",
       "    </tr>\n",
       "    <tr>\n",
       "      <th>23</th>\n",
       "      <td>Lonnie of Grafton, OH</td>\n",
       "      <td>My daughter got me a Medical Guardian in case ...</td>\n",
       "      <td>Original review: Aug. 24, 2020</td>\n",
       "    </tr>\n",
       "    <tr>\n",
       "      <th>24</th>\n",
       "      <td>L. of Fl, FL</td>\n",
       "      <td>My mother has Medical Guardian and it helped h...</td>\n",
       "      <td>Original review: Aug. 23, 2020</td>\n",
       "    </tr>\n",
       "    <tr>\n",
       "      <th>25</th>\n",
       "      <td>C. of Ca, CA</td>\n",
       "      <td>I had a fall and I’m unsteady on my feet. I go...</td>\n",
       "      <td>Original review: Aug. 23, 2020</td>\n",
       "    </tr>\n",
       "    <tr>\n",
       "      <th>26</th>\n",
       "      <td>E. of Ny, NY</td>\n",
       "      <td>I had a stroke and my friend had suggested tha...</td>\n",
       "      <td>Original review: Aug. 23, 2020</td>\n",
       "    </tr>\n",
       "    <tr>\n",
       "      <th>27</th>\n",
       "      <td>G. of Me, ME</td>\n",
       "      <td>I live alone and I'm old. I got a Medical Guar...</td>\n",
       "      <td>Original review: Aug. 23, 2020</td>\n",
       "    </tr>\n",
       "    <tr>\n",
       "      <th>28</th>\n",
       "      <td>Gisele of Leominster, MA</td>\n",
       "      <td>I like my Medical Guardian a lot. One time, I ...</td>\n",
       "      <td>Original review: Aug. 22, 2020</td>\n",
       "    </tr>\n",
       "    <tr>\n",
       "      <th>29</th>\n",
       "      <td>A. of Fl, FL</td>\n",
       "      <td>I'll be living alone when my daughter goes bac...</td>\n",
       "      <td>Original review: Aug. 22, 2020</td>\n",
       "    </tr>\n",
       "  </tbody>\n",
       "</table>\n",
       "</div>"
      ],
      "text/plain": [
       "                   NAMES OF REVIEWERS  \\\n",
       "0               Donna of Richmond, IN   \n",
       "1           David of Forked River, NJ   \n",
       "2   Margaret of Franklin Township, NJ   \n",
       "3                Leslie of Naples, FL   \n",
       "4                James of Pontiac, IL   \n",
       "5               Jeff of Bradenton, FL   \n",
       "6          Judith of Turnersville, DE   \n",
       "7          Shirley of Westminster, MD   \n",
       "8        Betty of East Pittsburgh, PA   \n",
       "9                        P. of Ny, NY   \n",
       "10                       J. of Va, VA   \n",
       "11             Jean of Naperville, IL   \n",
       "12              Nancy of Sylvania, OH   \n",
       "13             Ronald of Sarasota, FL   \n",
       "14         Merle of Highland Park, IL   \n",
       "15        Janis of Citrus Springs, FL   \n",
       "16                       R. of Mo, MO   \n",
       "17         Tabitha of Waynesville, NC   \n",
       "18                 Gwen of Pigeon, MI   \n",
       "19                 Lisa of Pegram, TN   \n",
       "20         Janice of Indianapolis, IN   \n",
       "21     Doris of Rockaway Township, NJ   \n",
       "22                 Becky of Osseo, MN   \n",
       "23              Lonnie of Grafton, OH   \n",
       "24                       L. of Fl, FL   \n",
       "25                       C. of Ca, CA   \n",
       "26                       E. of Ny, NY   \n",
       "27                       G. of Me, ME   \n",
       "28           Gisele of Leominster, MA   \n",
       "29                       A. of Fl, FL   \n",
       "\n",
       "                                              REVIEWS  \\\n",
       "0   I've had several falls so my son got me a medi...   \n",
       "1   My father lives by himself and getting up in a...   \n",
       "2   I have fear of falling. I’ve fallen three time...   \n",
       "3   My mother is under hospice care and she is get...   \n",
       "4   I wear my Medical Guardian around my neck and ...   \n",
       "5   My mom's Medical Guardian device has been so f...   \n",
       "6   I've fallen down many times. My son purchased ...   \n",
       "7   I decided to get a Medical Guardian because I ...   \n",
       "8   My daughter decided to get me a medical alert ...   \n",
       "9   The customer service of Medical Guardian has b...   \n",
       "10  My son got me to purchase a Medical Guardian, ...   \n",
       "11  I researched online and liked what they had to...   \n",
       "12  I live alone and I've fallen. My kids thought ...   \n",
       "13  I did some research online and Medical Guardia...   \n",
       "14  I was falling a lot. My children decided for m...   \n",
       "15  My insurance company sent me a medical alert. ...   \n",
       "16  The kids said I should get the device from Med...   \n",
       "17  When my grandmother received her Medical Guard...   \n",
       "18  Medical Guardian is working out really well fo...   \n",
       "19  My mother's 80 years old and still lives alone...   \n",
       "20  My mother is 91 so the possibility of falling ...   \n",
       "21  I got the virus and my friend called Medical G...   \n",
       "22  I have RA, so my joints hurts and sometimes, I...   \n",
       "23  My daughter got me a Medical Guardian in case ...   \n",
       "24  My mother has Medical Guardian and it helped h...   \n",
       "25  I had a fall and I’m unsteady on my feet. I go...   \n",
       "26  I had a stroke and my friend had suggested tha...   \n",
       "27  I live alone and I'm old. I got a Medical Guar...   \n",
       "28  I like my Medical Guardian a lot. One time, I ...   \n",
       "29  I'll be living alone when my daughter goes bac...   \n",
       "\n",
       "                   DATE OF REVIEWS  \n",
       "0   Original review: Aug. 31, 2020  \n",
       "1   Original review: Aug. 30, 2020  \n",
       "2   Original review: Aug. 30, 2020  \n",
       "3   Original review: Aug. 30, 2020  \n",
       "4   Original review: Aug. 29, 2020  \n",
       "5   Original review: Aug. 29, 2020  \n",
       "6   Original review: Aug. 29, 2020  \n",
       "7   Original review: Aug. 28, 2020  \n",
       "8   Original review: Aug. 28, 2020  \n",
       "9   Original review: Aug. 28, 2020  \n",
       "10  Original review: Aug. 27, 2020  \n",
       "11  Original review: Aug. 27, 2020  \n",
       "12  Original review: Aug. 27, 2020  \n",
       "13  Original review: Aug. 26, 2020  \n",
       "14  Original review: Aug. 26, 2020  \n",
       "15  Original review: Aug. 26, 2020  \n",
       "16  Original review: Aug. 25, 2020  \n",
       "17  Original review: Aug. 25, 2020  \n",
       "18  Original review: Aug. 25, 2020  \n",
       "19  Original review: Aug. 25, 2020  \n",
       "20  Original review: Aug. 24, 2020  \n",
       "21  Original review: Aug. 24, 2020  \n",
       "22  Original review: Aug. 24, 2020  \n",
       "23  Original review: Aug. 24, 2020  \n",
       "24  Original review: Aug. 23, 2020  \n",
       "25  Original review: Aug. 23, 2020  \n",
       "26  Original review: Aug. 23, 2020  \n",
       "27  Original review: Aug. 23, 2020  \n",
       "28  Original review: Aug. 22, 2020  \n",
       "29  Original review: Aug. 22, 2020  "
      ]
     },
     "execution_count": 15,
     "metadata": {},
     "output_type": "execute_result"
    }
   ],
   "source": [
    "REVIEWS = pd.DataFrame({\n",
    "    \"NAMES OF REVIEWERS\": names,\n",
    "    \"REVIEWS\": reviews,\n",
    "    \"DATE OF REVIEWS\": dates,\n",
    "})\n",
    "REVIEWS"
   ]
  },
  {
   "cell_type": "markdown",
   "metadata": {},
   "source": [
    "## Conclusions"
   ]
  },
  {
   "cell_type": "markdown",
   "metadata": {},
   "source": [
    "We have successfully extracted and converted extracted files to a dataframe,the data collected may be analysed, visualized and used in other projects.\n",
    "\n",
    "I hope this helped you understand the basics of web scraping with Python.Would love to hear feedback!"
   ]
  },
  {
   "cell_type": "code",
   "execution_count": 17,
   "metadata": {},
   "outputs": [],
   "source": [
    "!pip install jovian --upgrade --quiet"
   ]
  },
  {
   "cell_type": "code",
   "execution_count": 18,
   "metadata": {},
   "outputs": [],
   "source": [
    "import jovian"
   ]
  },
  {
   "cell_type": "code",
   "execution_count": null,
   "metadata": {},
   "outputs": [
    {
     "data": {
      "application/javascript": [
       "window.require && require([\"base/js/namespace\"],function(Jupyter){Jupyter.notebook.save_checkpoint()})"
      ],
      "text/plain": [
       "<IPython.core.display.Javascript object>"
      ]
     },
     "metadata": {},
     "output_type": "display_data"
    }
   ],
   "source": [
    "# Execute this to save new versions of the notebook\n",
    "jovian.commit(project=\"web-scraping-project\")"
   ]
  },
  {
   "cell_type": "code",
   "execution_count": null,
   "metadata": {},
   "outputs": [],
   "source": []
  }
 ],
 "metadata": {
  "kernelspec": {
   "display_name": "Python 3 (ipykernel)",
   "language": "python",
   "name": "python3"
  },
  "language_info": {
   "codemirror_mode": {
    "name": "ipython",
    "version": 3
   },
   "file_extension": ".py",
   "mimetype": "text/x-python",
   "name": "python",
   "nbconvert_exporter": "python",
   "pygments_lexer": "ipython3",
   "version": "3.9.6"
  }
 },
 "nbformat": 4,
 "nbformat_minor": 2
}
